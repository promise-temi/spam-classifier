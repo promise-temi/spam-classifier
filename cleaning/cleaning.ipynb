{
 "cells": [
  {
   "cell_type": "code",
   "execution_count": 1,
   "metadata": {},
   "outputs": [],
   "source": [
    "import pandas as pd\n"
   ]
  },
  {
   "cell_type": "markdown",
   "metadata": {},
   "source": [
    "Extraction des données pour Dataset Original"
   ]
  },
  {
   "cell_type": "code",
   "execution_count": 10,
   "metadata": {},
   "outputs": [
    {
     "name": "stderr",
     "output_type": "stream",
     "text": [
      "C:\\Users\\p2972\\AppData\\Local\\Temp\\ipykernel_15788\\4145953665.py:5: FutureWarning: Downcasting behavior in `replace` is deprecated and will be removed in a future version. To retain the old behavior, explicitly call `result.infer_objects(copy=False)`. To opt-in to the future behavior, set `pd.set_option('future.no_silent_downcasting', True)`\n",
      "  df_original['label'] = df_original['label'].replace({'spam': 1, 'ham': 0})\n"
     ]
    }
   ],
   "source": [
    "df_original = pd.read_csv(\"../mesdf/spam.csv\", encoding=\"latin-1\")\n",
    "df_original[['label', 'text']] = df_original[['v1', 'v2']]\n",
    "df_original = df_original[['label', 'text']]\n",
    "#remplacer pour la colonne label les valeurs 'spam' par 1 et 'ham' par 0\n",
    "df_original['label'] = df_original['label'].replace({'spam': 1, 'ham': 0})\n",
    "\n",
    "df_original_ham = df_original[df_original['label'] == 0]\n",
    "df_original_spam = df_original[df_original['label'] == 1]\n",
    "\n",
    "#suprimer les lignes avec des valeurs manquantes\n",
    "df_original_ham = df_original_ham.dropna(subset=['text'])\n",
    "df_original_spam = df_original_spam.dropna(subset=['text'])\n",
    "\n",
    "#suprimer les doublons\n",
    "df_original_ham = df_original_ham.drop_duplicates(subset='text', keep='first')\n",
    "df_original_spam = df_original_spam.drop_duplicates(subset='text', keep='first')\n",
    "\n",
    "df_original_ham.to_csv(\"../datasets/ham_original.csv\", index=False)\n",
    "df_original_spam.to_csv(\"../datasets/spam_original.csv\", index=False)\n",
    "\n"
   ]
  },
  {
   "cell_type": "markdown",
   "metadata": {},
   "source": [
    "Extraction des données pour Dataset suplementaire 1"
   ]
  },
  {
   "cell_type": "code",
   "execution_count": 20,
   "metadata": {},
   "outputs": [
    {
     "name": "stdout",
     "output_type": "stream",
     "text": [
      "(1352, 2)\n",
      "   label                                               text\n",
      "0      1  abasements darer prudently fortuitous undergon...\n",
      "1      1  it is difficult to make our material condition...\n",
      "2      1  vcsc - brand new stock for your attention voca...\n",
      "3      1  wffur attion brom est inst siupied 1 pgst our ...\n",
      "4      1  berne hotbox carnal bride cutworm dyadic guard...\n"
     ]
    }
   ],
   "source": [
    "\n",
    "def get_spans1():\n",
    "    df = pd.read_csv('../mesdf/spam_ham_dataset.csv', encoding='latin-1')\n",
    "\n",
    "    #recuperer les données spam \n",
    "    df_new = df[['label', 'text']].where(df['label'] == 'spam').dropna()\n",
    "    df_new = df_new.drop_duplicates(subset='text', keep='first')\n",
    "    donnees = []\n",
    "    #nettoyage et reccuperation des données pertinentes et sauvegarde dans un nouveau fichier csv\n",
    "    for text in df_new['text']:\n",
    "        text = text.split('\\r\\n')\n",
    "        text.pop(0)\n",
    "        text = ' '.join(text)\n",
    "        for label in df_new['label']:\n",
    "            if label == 'spam':\n",
    "                label = 1\n",
    "            elif label == 'ham':\n",
    "                label = 0\n",
    "            if text == '':\n",
    "                continue\n",
    "            message = {'label': label, 'text': text}\n",
    "            donnees.append(message)\n",
    "            \n",
    "            break\n",
    "\n",
    "    df_nouveau = pd.DataFrame(donnees)\n",
    "\n",
    "    df_nouveau = df_nouveau.drop_duplicates(subset='text', keep='first')\n",
    "    df_nouveau.to_csv('../datasets/spam_dataset_1.csv', index=False)\n",
    "\n",
    "    print(df_nouveau.shape)\n",
    "    print(df_nouveau.head())\n",
    "\n",
    "get_spans1()"
   ]
  },
  {
   "cell_type": "markdown",
   "metadata": {},
   "source": [
    "Extraction des données pour Dataset supplémentaire 2"
   ]
  },
  {
   "cell_type": "code",
   "execution_count": 21,
   "metadata": {},
   "outputs": [
    {
     "name": "stdout",
     "output_type": "stream",
     "text": [
      "(1368, 2)\n",
      "   label                                               text\n",
      "0      1  naturally irresistible your corporate identity...\n",
      "1      1  the stock trading gunslinger  fanny is merrill...\n",
      "2      1  unbelievable new homes made easy  im wanting t...\n",
      "3      1  4 color printing special  request additional i...\n",
      "4      1  do not have money , get software cds from here...\n"
     ]
    }
   ],
   "source": [
    "\n",
    "def get_spans2():  \n",
    "    df = pd.read_csv('../mesdf/emails.csv', encoding='latin-1')\n",
    "\n",
    "    #recuperer les données spam \n",
    "\n",
    "    df_new = df[['spam', 'text']].where(df['spam'] == 1).dropna()\n",
    "    df_new = df_new.drop_duplicates(subset='text', keep='first')\n",
    "    donnees = []\n",
    "    #nettoyage et reccuperation des données pertinentes et sauvegarde dans un nouveau fichier csv\n",
    "    for text in df_new['text']:\n",
    "        \n",
    "        text = text[9:]\n",
    "\n",
    "        if text == '':\n",
    "                continue\n",
    "        message = {'label': 1, 'text': text}\n",
    "        donnees.append(message)\n",
    "            \n",
    "\n",
    "    df_nouveau = pd.DataFrame(donnees)\n",
    "    df_nouveau.head().values.tolist()\n",
    "    df_nouveau.shape\n",
    "    \n",
    "    df_nouveau = df_nouveau.drop_duplicates(subset='text', keep='first')\n",
    "    df_nouveau.to_csv('../datasets/spam_dataset_2.csv', index=False)\n",
    "    print(df_nouveau.shape)\n",
    "    print(df_nouveau.head())\n",
    "    \n",
    "get_spans2()"
   ]
  },
  {
   "cell_type": "markdown",
   "metadata": {},
   "source": [
    "Extraction des données pour Dataset supplementaire 3"
   ]
  },
  {
   "cell_type": "code",
   "execution_count": 22,
   "metadata": {},
   "outputs": [
    {
     "name": "stdout",
     "output_type": "stream",
     "text": [
      "(1467, 2)\n",
      "   label                                               text\n",
      "0      1  Business with  \\t\\t\\t\\t\\t\\t\\t\\tcPanel & WHM \\t...\n",
      "1      1  Password will expire in 3 days. Click Here To ...\n",
      "2      1  To ensure delivery to your inbox, please add U...\n",
      "3      1  PayPal Secure   Dear Client,                  ...\n",
      "4      1  08/10/2011 06:14:36 am +0800 - en_US.UTF-8 - O...\n"
     ]
    }
   ],
   "source": [
    "def get_spans3():\n",
    "    df = pd.read_csv('../mesdf/Nazario.csv')\n",
    "    df = df.dropna()\n",
    "    df = df.drop_duplicates(keep='first')\n",
    "    #recuperer les messages spam\n",
    "    messages = df.values.tolist()\n",
    "    \n",
    "    spam_messages = []\n",
    "    #nettoyage, reccuperation et création des données pertinentes et sauvegarde dans un nouveau fichier csv\n",
    "    for message in messages:\n",
    "        good_message = message[4]\n",
    "        if good_message == '':\n",
    "            continue\n",
    "        spam_message = {'label': 1, 'text': good_message}\n",
    "        spam_messages.append(spam_message)\n",
    "\n",
    "\n",
    "    df_nouveau = pd.DataFrame(spam_messages)\n",
    "    df_nouveau = df_nouveau.drop_duplicates(subset='text', keep='first')\n",
    "    \n",
    "    df_nouveau.to_csv('../datasets/spam_dataset_3.csv', index=False)\n",
    "    print(df_nouveau.shape)\n",
    "    print(df_nouveau.head())\n",
    "\n",
    "get_spans3()\n"
   ]
  }
 ],
 "metadata": {
  "kernelspec": {
   "display_name": "venv",
   "language": "python",
   "name": "python3"
  },
  "language_info": {
   "codemirror_mode": {
    "name": "ipython",
    "version": 3
   },
   "file_extension": ".py",
   "mimetype": "text/x-python",
   "name": "python",
   "nbconvert_exporter": "python",
   "pygments_lexer": "ipython3",
   "version": "3.12.7"
  }
 },
 "nbformat": 4,
 "nbformat_minor": 2
}
